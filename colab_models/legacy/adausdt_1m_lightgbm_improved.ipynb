{
 "cells": [
  {
   "cell_type": "markdown",
   "metadata": {},
   "source": [
    "# 🚀 개선된 ADAUSDT 1분봉 LightGBM 모델 훈련\n",
    "\n",
    "## 📊 개선사항:\n",
    "## 1. 임계값 조정 (0.5% → 0.2%)\n",
    "## 2. 클래스 가중치 적용\n",
    "## 3. 더 많은 특성 추가\n",
    "## 4. 앙상블 모델 사용"
   ]
  },
  {
   "cell_type": "code",
   "execution_count": null,
   "metadata": {},
   "outputs": [],
   "source": [
    "# 📦 필요한 라이브러리 설치\n",
    "%pip install pandas==2.0.3 numpy==1.24.3 scikit-learn==1.3.0 xgboost==1.7.6 lightgbm==4.0.0 tensorflow==2.13.0 pandas-ta==0.3.14b0 supabase"
   ]
  },
  {
   "cell_type": "code",
   "execution_count": null,
   "metadata": {},
   "outputs": [],
   "source": [
    "# 📚 라이브러리 임포트\n",
    "import pandas as pd\n",
    "import numpy as np\n",
    "import pandas_ta as ta\n",
    "from sklearn.ensemble import RandomForestClassifier, GradientBoostingClassifier\n",
    "from sklearn.model_selection import train_test_split, cross_val_score\n",
    "from sklearn.preprocessing import StandardScaler, LabelEncoder\n",
    "from sklearn.metrics import accuracy_score, classification_report, confusion_matrix\n",
    "import lightgbm as lgb\n",
    "import xgboost as xgb\n",
    "from supabase import create_client\n",
    "import warnings\n",
    "warnings.filterwarnings('ignore')\n",
    "\n",
    "print('✅ 라이브러리 로드 완료')"
   ]
  },
  {
   "cell_type": "code",
   "execution_count": null,
   "metadata": {},
   "outputs": [],
   "source": [
    "# 🎯 개선된 목표 변수 생성\n",
    "def create_improved_target_variable(df, lookforward=5, threshold=0.002):  # 0.2% 임계값\n",
    "    # 미래 가격 변화율 계산\n",
    "    df['future_return'] = df['close'].shift(-lookforward) / df['close'] - 1\n",
    "    \n",
    "    # 목표 변수 생성 (더 균형잡힌 분류)\n",
    "    df['target'] = np.where(df['future_return'] > threshold, 1,\n",
    "                      np.where(df['future_return'] < -threshold, -1, 0))\n",
    "    \n",
    "    # 신호 강도 계산\n",
    "    df['signal_strength'] = abs(df['future_return']) * 100\n",
    "    \n",
    "    return df\n",
    "\n",
    "# 목표 변수 생성\n",
    "df = create_improved_target_variable(df)\n",
    "print('✅ 개선된 목표 변수 생성 완료')\n",
    "print(f'📊 타겟 분포:\n{df["target"].value_counts()}')\n",
    "print(f'📈 신호 강도 평균: {df["signal_strength"].mean():.4f}')"
   ]
  },
  {
   "cell_type": "code",
   "execution_count": null,
   "metadata": {},
   "outputs": [],
   "source": [
    "# 🚀 개선된 LightGBM 모델 (클래스 가중치 적용)\n",
    "from sklearn.model_selection import train_test_split, StratifiedKFold\n",
    "from sklearn.metrics import accuracy_score, classification_report\n",
    "import pickle\n",
    "import json\n",
    "\n",
    "# 데이터 분할\n",
    "X_train, X_test, y_train, y_test = train_test_split(X, y, test_size=0.2, random_state=42, stratify=y)\n",
    "\n",
    "# 클래스 가중치 계산\n",
    "class_weights = dict(zip([-1, 0, 1], [10, 1, 10]))  # SHORT/LONG에 높은 가중치\n",
    "\n",
    "# LightGBM 모델 설정 (개선된 버전)\n",
    "model = lgb.LGBMClassifier(\n",
    "    n_estimators=1000,\n",
    "    learning_rate=0.05,\n",
    "    max_depth=8,\n",
    "    num_leaves=31,\n",
    "    random_state=42,\n",
    "    n_jobs=-1,\n",
    "    verbose=-1,\n",
    "    class_weight=class_weights\n",
    ")\n",
    "\n",
    "print('🚀 개선된 LightGBM 모델 훈련 시작...')\n",
    "print(f'📊 훈련 데이터: {X_train.shape}')\n",
    "print(f'📊 테스트 데이터: {X_test.shape}')\n",
    "print(f'⚖️ 클래스 가중치: {class_weights}')\n",
    "\n",
    "# 모델 훈련\n",
    "model.fit(X_train, y_train)\n",
    "\n",
    "# 예측\n",
    "y_pred = model.predict(X_test)\n",
    "accuracy = accuracy_score(y_test, y_pred)\n",
    "\n",
    "print(f'✅ 모델 훈련 완료')\n",
    "print(f'📊 정확도: {accuracy:.4f}')"
   ]
  }
 ],
 "metadata": {
  "kernelspec": {
   "display_name": "Python 3",
   "language": "python",
   "name": "python3"
  },
  "language_info": {
   "codemirror_mode": {
    "name": "ipython",
    "version": 3
   },
   "file_extension": ".py",
   "mimetype": "text/x-python",
   "name": "python",
   "nbconvert_exporter": "python",
   "pygments_lexer": "ipython3",
   "version": "3.8.0"
  }
 },
 "nbformat": 4,
 "nbformat_minor": 4
}