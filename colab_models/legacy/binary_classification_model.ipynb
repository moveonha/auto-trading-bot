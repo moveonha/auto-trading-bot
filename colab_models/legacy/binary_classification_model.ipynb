{
 "cells": [
  {
   "cell_type": "markdown",
   "metadata": {},
   "source": [
    "# 🚀 이진 분류 모델 (상승/하락만 예측)\n",
    "\n",
    "## 📊 클래스 불균형 문제 해결:\n",
    "## 1. 3클래스 → 2클래스로 단순화\n",
    "## 2. 임계값 0.2%로 낮춤\n",
    "## 3. 클래스 가중치 적용"
   ]
  },
  {
   "cell_type": "code",
   "execution_count": null,
   "metadata": {},
   "outputs": [],
   "source": [
    "# 📦 필요한 라이브러리 설치\n",
    "%pip install pandas==2.0.3 numpy==1.24.3 scikit-learn==1.3.0 xgboost==1.7.6 lightgbm==4.0.0 tensorflow==2.13.0 pandas-ta==0.3.14b0 supabase"
   ]
  },
  {
   "cell_type": "code",
   "execution_count": null,
   "metadata": {},
   "outputs": [],
   "source": [
    "# 📚 라이브러리 임포트\n",
    "import pandas as pd\n",
    "import numpy as np\n",
    "import pandas_ta as ta\n",
    "from sklearn.ensemble import RandomForestClassifier\n",
    "from sklearn.model_selection import train_test_split, cross_val_score\n",
    "from sklearn.metrics import accuracy_score, classification_report, confusion_matrix\n",
    "import lightgbm as lgb\n",
    "from supabase import create_client\n",
    "import warnings\n",
    "warnings.filterwarnings('ignore')\n",
    "\n",
    "print('✅ 라이브러리 로드 완료')"
   ]
  },
  {
   "cell_type": "code",
   "execution_count": null,
   "metadata": {},
   "outputs": [],
   "source": [
    "# 🎯 이진 분류 목표 변수 생성\n",
    "def create_binary_target(df, lookforward=5, threshold=0.002):  # 0.2% 임계값\n",
    "    # 미래 가격 변화율 계산\n",
    "    df['future_return'] = df['close'].shift(-lookforward) / df['close'] - 1\n",
    "    \n",
    "    # 이진 분류: 상승(1) vs 하락(0)\n",
    "    df['target'] = np.where(df['future_return'] > threshold, 1, 0)\n",
    "    \n",
    "    return df\n",
    "\n",
    "# 목표 변수 생성\n",
    "df = create_binary_target(df)\n",
    "print('✅ 이진 분류 목표 변수 생성 완료')\n",
    "print(f'📊 타겟 분포:\n{df["target"].value_counts()}')\n",
    "print(f'📈 상승 비율: {df["target"].mean()*100:.1f}%')"
   ]
  },
  {
   "cell_type": "code",
   "execution_count": null,
   "metadata": {},
   "outputs": [],
   "source": [
    "# 🚀 이진 분류 LightGBM 모델\n",
    "from sklearn.model_selection import train_test_split, StratifiedKFold\n",
    "from sklearn.metrics import accuracy_score, classification_report\n",
    "import pickle\n",
    "import json\n",
    "\n",
    "# 특성과 타겟 분리\n",
    "feature_columns = [\n",
    "    'sma_5', 'sma_10', 'sma_20', 'ema_9', 'ema_21',\n",
    "    'macd', 'macd_signal', 'macd_histogram',\n",
    "    'rsi',\n",
    "    'bb_upper', 'bb_lower', 'bb_width', 'bb_position',\n",
    "    'price_change', 'price_change_5', 'price_change_10',\n",
    "    'volume_sma', 'volume_ratio',\n",
    "    'hour', 'day_of_week', 'is_weekend'\n",
    "]\n",
    "\n",
    "X = df[feature_columns].dropna()\n",
    "y = df['target'].dropna()\n",
    "\n",
    "# 데이터 분할\n",
    "X_train, X_test, y_train, y_test = train_test_split(X, y, test_size=0.2, random_state=42, stratify=y)\n",
    "\n",
    "# 클래스 가중치 계산\n",
    "class_weights = {0: 1, 1: 5}  # 상승에 5배 가중치\n",
    "\n",
    "# LightGBM 모델 설정\n",
    "model = lgb.LGBMClassifier(\n",
    "    n_estimators=1000,\n",
    "    learning_rate=0.05,\n",
    "    max_depth=8,\n",
    "    num_leaves=31,\n",
    "    random_state=42,\n",
    "    n_jobs=-1,\n",
    "    verbose=-1,\n",
    "    class_weight=class_weights\n",
    ")\n",
    "\n",
    "print('🚀 이진 분류 LightGBM 모델 훈련 시작...')\n",
    "print(f'📊 훈련 데이터: {X_train.shape}')\n",
    "print(f'📊 테스트 데이터: {X_test.shape}')\n",
    "print(f'⚖️ 클래스 가중치: {class_weights}')\n",
    "\n",
    "# 모델 훈련\n",
    "model.fit(X_train, y_train)\n",
    "\n",
    "# 예측\n",
    "y_pred = model.predict(X_test)\n",
    "accuracy = accuracy_score(y_test, y_pred)\n",
    "\n",
    "print(f'✅ 모델 훈련 완료')\n",
    "print(f'📊 정확도: {accuracy:.4f}')"
   ]
  },
  {
   "cell_type": "code",
   "execution_count": null,
   "metadata": {},
   "outputs": [],
   "source": [
    "# 📊 모델 성능 평가\n",
    "from sklearn.model_selection import cross_val_score\n",
    "\n",
    "# 교차 검증\n",
    "cv = StratifiedKFold(n_splits=5, shuffle=True, random_state=42)\n",
    "cv_scores = cross_val_score(model, X, y, cv=cv, scoring='accuracy')\n",
    "\n",
    "print('📊 교차 검증 결과:')\n",
    "print(f'평균 정확도: {cv_scores.mean():.4f} (±{cv_scores.std():.4f})')\n",
    "print(f'개별 정확도: {cv_scores}')\n",
    "\n",
    "# 분류 리포트\n",
    "print('\n📋 분류 리포트:')\n",
    "print(classification_report(y_test, y_pred))\n",
    "\n",
    "# 혼동 행렬\n",
    "print('\n📊 혼동 행렬:')\n",
    "cm = confusion_matrix(y_test, y_pred)\n",
    "print(cm)\n",
    "\n",
    "# 특성 중요도\n",
    "feature_importance = pd.DataFrame({\n",
    "    'feature': feature_columns,\n",
    "    'importance': model.feature_importances_\n",
    "}).sort_values('importance', ascending=False)\n",
    "\n",
    "print('\n🏆 상위 10개 중요 특성:')\n",
    "print(feature_importance.head(10))"
   ]
  }
 ],
 "metadata": {
  "kernelspec": {
   "display_name": "Python 3",
   "language": "python",
   "name": "python3"
  },
  "language_info": {
   "codemirror_mode": {
    "name": "ipython",
    "version": 3
   },
   "file_extension": ".py",
   "mimetype": "text/x-python",
   "name": "python",
   "nbconvert_exporter": "python",
   "pygments_lexer": "ipython3",
   "version": "3.8.0"
  }
 },
 "nbformat": 4,
 "nbformat_minor": 4
}