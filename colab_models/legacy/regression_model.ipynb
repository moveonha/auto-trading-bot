{
 "cells": [
  {
   "cell_type": "markdown",
   "metadata": {},
   "source": [
    "# 🚀 회귀 모델 (수익률 직접 예측)\n",
    "\n",
    "## 📊 클래스 불균형 문제 완전 해결:\n",
    "## 1. 분류 → 회귀로 변경\n",
    "## 2. 수익률을 직접 예측\n",
    "## 3. 임계값 문제 없음"
   ]
  },
  {
   "cell_type": "code",
   "execution_count": null,
   "metadata": {},
   "outputs": [],
   "source": [
    "# 📦 필요한 라이브러리 설치\n",
    "%pip install pandas==2.0.3 numpy==1.24.3 scikit-learn==1.3.0 xgboost==1.7.6 lightgbm==4.0.0 tensorflow==2.13.0 pandas-ta==0.3.14b0 supabase"
   ]
  },
  {
   "cell_type": "code",
   "execution_count": null,
   "metadata": {},
   "outputs": [],
   "source": [
    "# 📚 라이브러리 임포트\n",
    "import pandas as pd\n",
    "import numpy as np\n",
    "import pandas_ta as ta\n",
    "from sklearn.ensemble import RandomForestRegressor\n",
    "from sklearn.model_selection import train_test_split, cross_val_score\n",
    "from sklearn.metrics import mean_squared_error, r2_score, mean_absolute_error\n",
    "import lightgbm as lgb\n",
    "from supabase import create_client\n",
    "import warnings\n",
    "warnings.filterwarnings('ignore')\n",
    "\n",
    "print('✅ 라이브러리 로드 완료')"
   ]
  },
  {
   "cell_type": "code",
   "execution_count": null,
   "metadata": {},
   "outputs": [],
   "source": [
    "# 🎯 회귀 목표 변수 생성\n",
    "def create_regression_target(df, lookforward=5):\n",
    "    # 미래 수익률을 직접 예측\n",
    "    df['future_return'] = df['close'].shift(-lookforward) / df['close'] - 1\n",
    "    \n",
    "    return df\n",
    "\n",
    "# 목표 변수 생성\n",
    "df = create_regression_target(df)\n",
    "print('✅ 회귀 목표 변수 생성 완료')\n",
    "print(f'📊 수익률 통계:')\n",
    "print(f'  평균: {df["future_return"].mean()*100:.4f}%')\n",
    "print(f'  표준편차: {df["future_return"].std()*100:.4f}%')\n",
    "print(f'  최소값: {df["future_return"].min()*100:.4f}%')\n",
    "print(f'  최대값: {df["future_return"].max()*100:.4f}%')"
   ]
  },
  {
   "cell_type": "code",
   "execution_count": null,
   "metadata": {},
   "outputs": [],
   "source": [
    "# 🚀 회귀 LightGBM 모델\n",
    "from sklearn.model_selection import train_test_split\n",
    "import pickle\n",
    "import json\n",
    "\n",
    "# 특성과 타겟 분리\n",
    "feature_columns = [\n",
    "    'sma_5', 'sma_10', 'sma_20', 'ema_9', 'ema_21',\n",
    "    'macd', 'macd_signal', 'macd_histogram',\n",
    "    'rsi',\n",
    "    'bb_upper', 'bb_lower', 'bb_width', 'bb_position',\n",
    "    'price_change', 'price_change_5', 'price_change_10',\n",
    "    'volume_sma', 'volume_ratio',\n",
    "    'hour', 'day_of_week', 'is_weekend'\n",
    "]\n",
    "\n",
    "X = df[feature_columns].dropna()\n",
    "y = df['future_return'].dropna()\n",
    "\n",
    "# 데이터 분할\n",
    "X_train, X_test, y_train, y_test = train_test_split(X, y, test_size=0.2, random_state=42)\n",
    "\n",
    "# LightGBM 회귀 모델 설정\n",
    "model = lgb.LGBMRegressor(\n",
    "    n_estimators=1000,\n",
    "    learning_rate=0.05,\n",
    "    max_depth=8,\n",
    "    num_leaves=31,\n",
    "    random_state=42,\n",
    "    n_jobs=-1,\n",
    "    verbose=-1\n",
    ")\n",
    "\n",
    "print('🚀 회귀 LightGBM 모델 훈련 시작...')\n",
    "print(f'📊 훈련 데이터: {X_train.shape}')\n",
    "print(f'📊 테스트 데이터: {X_test.shape}')\n",
    "\n",
    "# 모델 훈련\n",
    "model.fit(X_train, y_train)\n",
    "\n",
    "# 예측\n",
    "y_pred = model.predict(X_test)\n",
    "\n",
    "# 성능 평가\n",
    "mse = mean_squared_error(y_test, y_pred)\n",
    "rmse = np.sqrt(mse)\n",
    "mae = mean_absolute_error(y_test, y_pred)\n",
    "r2 = r2_score(y_test, y_pred)\n",
    "\n",
    "print(f'✅ 모델 훈련 완료')\n",
    "print(f'📊 R² 점수: {r2:.4f}')\n",
    "print(f'📊 RMSE: {rmse*100:.4f}%')\n",
    "print(f'📊 MAE: {mae*100:.4f}%')"
   ]
  },
  {
   "cell_type": "code",
   "execution_count": null,
   "metadata": {},
   "outputs": [],
   "source": [
    "# 📊 모델 성능 평가\n",
    "from sklearn.model_selection import cross_val_score\n",
    "\n",
    "# 교차 검증\n",
    "cv = cross_val_score(model, X, y, cv=5, scoring='r2')\n",
    "\n",
    "print('📊 교차 검증 결과:')\n",
    "print(f'평균 R²: {cv.mean():.4f} (±{cv.std():.4f})')\n",
    "print(f'개별 R²: {cv}')\n",
    "\n",
    "# 예측 vs 실제 비교\n",
    "print('\n📈 예측 vs 실제 비교:')\n",
    "print(f'실제 평균: {y_test.mean()*100:.4f}%')\n",
    "print(f'예측 평균: {y_pred.mean()*100:.4f}%')\n",
    "print(f'실제 표준편차: {y_test.std()*100:.4f}%')\n",
    "print(f'예측 표준편차: {y_pred.std()*100:.4f}%')\n",
    "\n",
    "# 특성 중요도\n",
    "feature_importance = pd.DataFrame({\n",
    "    'feature': feature_columns,\n",
    "    'importance': model.feature_importances_\n",
    "}).sort_values('importance', ascending=False)\n",
    "\n",
    "print('\n🏆 상위 10개 중요 특성:')\n",
    "print(feature_importance.head(10))"
   ]
  }
 ],
 "metadata": {
  "kernelspec": {
   "display_name": "Python 3",
   "language": "python",
   "name": "python3"
  },
  "language_info": {
   "codemirror_mode": {
    "name": "ipython",
    "version": 3
   },
   "file_extension": ".py",
   "mimetype": "text/x-python",
   "name": "python",
   "nbconvert_exporter": "python",
   "pygments_lexer": "ipython3",
   "version": "3.8.0"
  }
 },
 "nbformat": 4,
 "nbformat_minor": 4
}